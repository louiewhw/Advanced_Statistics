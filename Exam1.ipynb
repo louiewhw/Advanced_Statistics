{
 "cells": [
  {
   "cell_type": "code",
   "execution_count": 132,
   "metadata": {
    "collapsed": true
   },
   "outputs": [],
   "source": [
    "import numpy as np\n",
    "import scipy as sci\n",
    "import matplotlib.pyplot as plt\n",
    "from scipy import stats"
   ]
  },
  {
   "cell_type": "code",
   "execution_count": 170,
   "metadata": {
    "collapsed": false
   },
   "outputs": [
    {
     "name": "stdout",
     "output_type": "stream",
     "text": [
      "\n",
      "pi1 = parents who regrad science and Math are crucial\n",
      "pi2 = students of grade 6-12 thought understanding science and strong math  are crucial\n",
      "H0: pi1 - pi2 = 0\n",
      "Ha: pi1 - pi2 !=0\n",
      "\n",
      "Pc =  0.5608158765159867\n",
      "z =  6.305824800428203\n",
      "P value =  1.43331580363e-10\n",
      "Because P value < 0.05, we reject the null hypothesis\n"
     ]
    }
   ],
   "source": [
    "#1\n",
    "\n",
    "n1 = 1379\n",
    "n2 = 1342\n",
    "P1 = 0.62\n",
    "P2 = 0.50\n",
    "Pc = (n1*P1+n2*P2)/(n1+n2)\n",
    "z = (P1-P2)/((Pc*(1-Pc)/n1)+(Pc*(1-Pc)/n2))**(0.5)\n",
    "P_value = stats.norm.sf(z)\n",
    "print('''\n",
    "pi1 = parents who regrad science and Math are crucial\n",
    "pi2 = students of grade 6-12 thought understanding science and strong math  are crucial\n",
    "H0: pi1 - pi2 = 0\n",
    "Ha: pi1 - pi2 !=0\n",
    "''')\n",
    "print('Pc = ', Pc)\n",
    "print('z = ', z)\n",
    "print('P value = ', P_value)\n",
    "print('Because P value < 0.05, we reject the null hypothesis')"
   ]
  },
  {
   "cell_type": "code",
   "execution_count": 169,
   "metadata": {
    "collapsed": false
   },
   "outputs": [
    {
     "name": "stdout",
     "output_type": "stream",
     "text": [
      "(a,)\n",
      "ddof =  42.952379483515244\n",
      "t(P(0.98), df = 43) =  2.41635342845\n",
      "98% Interval = ( -25.4917867057 ,  -2.50821329425 )\n",
      "(b,)\n",
      "H0: mean2-mean1 = 0\n",
      "Ha: mean2- mean1 < 0\n",
      "t =  -2.9437500768557205\n",
      "ddof =  42.952379483515244\n",
      "P-value =  0.00260680402772\n",
      "Because P < 0.01, we reject H0\n"
     ]
    }
   ],
   "source": [
    "#2\n",
    "n1 = 20\n",
    "n2 = 25\n",
    "mean1 = 87\n",
    "mean2 = 73\n",
    "std1 = 14.4\n",
    "std2 = 17.5\n",
    "std12 = ((std1**2)/n1+(std2**2)/n2)**(0.5)\n",
    "t = (mean2-mean1)/std12\n",
    "v1 = (std1**2)/n1\n",
    "v2 = (std2**2)/n2\n",
    "ddof = (v1+v2)**2/((v1**2)/(n1-1)+(v2**2)/(n2-1))\n",
    "p = 1 - stats.t.sf(t, ddof)\n",
    "tcri = stats.t.isf(0.01, ddof)\n",
    "a = (mean2-mean1 )- (tcri*((std1**2)/n1+(std2**2)/n2)**(1/2))\n",
    "b = (mean2-mean1 )+ (tcri*((std1**2)/n1+(std2**2)/n2)**(1/2))\n",
    "print('(a,)')\n",
    "print('ddof = ', ddof)\n",
    "print('t(P(0.98), df = 43) = ', tcri)\n",
    "print('98% Interval = (', a, ', ', b, ')')\n",
    "print('(b,)')\n",
    "print('''H0: mean2-mean1 = 0\n",
    "Ha: mean2- mean1 < 0''')\n",
    "print('t = ', t)\n",
    "print('ddof = ', ddof)\n",
    "print('P-value = ', p)\n",
    "print('Because P < 0.01, we reject H0')\n",
    "\n",
    "\n"
   ]
  },
  {
   "cell_type": "code",
   "execution_count": 168,
   "metadata": {
    "collapsed": false
   },
   "outputs": [
    {
     "name": "stdout",
     "output_type": "stream",
     "text": [
      "(a,)\n"
     ]
    },
    {
     "data": {
      "image/png": "[encoded data removed]",
      "text/plain": [
       "<matplotlib.figure.Figure at 0x107f7ef60>"
      ]
     },
     "metadata": {},
     "output_type": "display_data"
    },
    {
     "name": "stdout",
     "output_type": "stream",
     "text": [
      "(b,)\n",
      "Pearson correlation coefficient =  0.556943735439\n",
      "(c,)\n",
      "0.617324330027 x +  160.292994303\n",
      "(d,)\n",
      "r = 0.5569 indicates the linear relationship between Age and Cholesteral is moderately strong and positive\n",
      "(e,)\n",
      "a(55) + b =  194.245832454\n",
      "(f,)\n",
      "t critical value =  1.85954803752\n",
      "Sa+b(55) =  4.64877000908\n",
      "90% confident Inteval =  185.601221307   202.890443601\n",
      "(g,)\n",
      "95% Confidence interval when n = 8 is  2.44691184879\n",
      "a +- (t-critical)Sb = 0.617324330027+-2.446*0.325479 = ( -0.179094098817 ,  1.41374275887 )\n",
      "(h,)\n",
      "H0: B = 0\n",
      "Ha: B! = 0\n",
      "B = 0.05\n",
      "t =  1.89666406876\n",
      "P(t = 2.322, n = 8) =  0.00930131468459\n",
      "Because P < B, we reject null hypothesis\n",
      "(i,)\n",
      "r^2 is =　0.310, fitting the simple linear regression model to the data would result \n",
      "in only about 30% of ovserved variation in y\n",
      "(j,)\n"
     ]
    },
    {
     "data": {
      "image/png": "[encoded data removed]",
      "text/plain": [
       "<matplotlib.figure.Figure at 0x107fbbc50>"
      ]
     },
     "metadata": {},
     "output_type": "display_data"
    },
    {
     "name": "stdout",
     "output_type": "stream",
     "text": [
      "(k,)\n",
      "the normal probability plot is approximately linear. The plots would not \n",
      "cause us to question the assumption of normality.\n"
     ]
    }
   ],
   "source": [
    "#3\n",
    "x = np.array([31, 39, 36, 43, 74, 52, 58, 63, 69, 47])\n",
    "y = np.array([175, 177, 181, 193, 205, 191, 189, 175, 220, 213])\n",
    "n = 10\n",
    "Ex = sum(x)\n",
    "Ey = sum(y)\n",
    "Exx = sum(x**2)\n",
    "Eyy = sum(y**2)\n",
    "Exy = sum(x*y)\n",
    "meanx = sci.mean(x)\n",
    "meany = sci.mean(y)\n",
    "Sxy = Exy - (Ex*Ey)/n\n",
    "Sxx = Exx - (Ex**2)/n\n",
    "a = (Exy - (Ex*Ey)/n)/(Exx - (Ex**2)/n)\n",
    "b = meany-(Exy - (Ex*Ey)/n)/(Exx - (Ex**2)/n)*meanx\n",
    "SSR = Eyy - b*Ey-a*Exy\n",
    "Se = (SSR/8)**(0.5)\n",
    "Sb = Se/Sxx**(0.5)\n",
    "Sab = Se*((1/10)+(((55-meanx)**2)/Sxx))**(0.5)\n",
    "\n",
    "plt.scatter(x, y)\n",
    "print('(a,)')\n",
    "plt.show()\n",
    "print('(b,)')\n",
    "r = sci.corrcoef(age,Cho)[0,1]\n",
    "print('Pearson correlation coefficient = ', r)\n",
    "print('(c,)')\n",
    "print(a, 'x + ',b )\n",
    "print('(d,)')\n",
    "print('r = 0.5569 indicates the linear relationship between Age and Cholesteral is moderately strong and positive')\n",
    "print('(e,)')\n",
    "print('a(55) + b = ', a*55+b )\n",
    "print('(f,)')\n",
    "print('t critical value = ', stats.t.isf(0.05, 8))\n",
    "print('Sa+b(55) = ', Sab)\n",
    "print('90% confident Inteval = ', a*55+b-stats.t.isf(0.05, 8)*Sab, ' ',a*55+b+stats.t.isf(0.05, 8)*Sab)\n",
    "print('(g,)')\n",
    "print('95% Confidence interval when n = 8 is ', stats.t.isf(0.025,6))\n",
    "print('a +- (t-critical)Sb = 0.617324330027+-2.446*0.325479 = (',a -stats.t.isf(0.025,6)*Sb, ', ',a +stats.t.isf(0.025,6)*Sb, ')')\n",
    "print('(h,)')\n",
    "print('''H0: B = 0\n",
    "Ha: B! = 0\n",
    "B = 0.05''')\n",
    "print('t = ', a/Sb)\n",
    "print('P(t = 2.322, n = 8) = ', stats.t.sf(-t, 8))\n",
    "print('Because P < B, we reject null hypothesis')\n",
    "print('(i,)')\n",
    "print('''r^2 is =　0.310, fitting the simple linear regression model to the data would result \n",
    "in only about 30% of ovserved variation in y''')\n",
    "print('(j,)')\n",
    "stats.probplot(y, plot = plt)\n",
    "plt.show()\n",
    "print('(k,)')\n",
    "print('''the normal probability plot is approximately linear. The plots would not \n",
    "cause us to question the assumption of normality.''')"
   ]
  },
  {
   "cell_type": "code",
   "execution_count": null,
   "metadata": {
    "collapsed": true
   },
   "outputs": [],
   "source": []
  }
 ],
 "metadata": {
  "kernelspec": {
   "display_name": "Python 3",
   "language": "python",
   "name": "python3"
  },
  "language_info": {
   "codemirror_mode": {
    "name": "ipython",
    "version": 3
   },
   "file_extension": ".py",
   "mimetype": "text/x-python",
   "name": "python",
   "nbconvert_exporter": "python",
   "pygments_lexer": "ipython3",
   "version": "3.5.2"
  }
 },
 "nbformat": 4,
 "nbformat_minor": 2
}
